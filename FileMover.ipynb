{
 "cells": [
  {
   "cell_type": "code",
   "execution_count": 17,
   "id": "f3397be0",
   "metadata": {},
   "outputs": [
    {
     "name": "stdout",
     "output_type": "stream",
     "text": [
      "C:\\Users\\EHYANG4\\Desktop\\totalRNA_JuJu_EV\\p22323-s013_EV-Justin-Pre-Op-TotalRNA_S35_L002_R1_001ReadsPerGene.out.tab\n",
      "C:\\Users\\EHYANG4\\Desktop\\totalRNA_JuJu_EV\\p22323-s014_EV-Justin-1-week-08-16-2022-TotalRNA_S36_L002_R1_001ReadsPerGene.out.tab\n",
      "C:\\Users\\EHYANG4\\Desktop\\totalRNA_JuJu_EV\\p22323-s015_EV-Justin-2-months-10-10-2022-TotalRNA_S37_L002_R1_001ReadsPerGene.out.tab\n",
      "C:\\Users\\EHYANG4\\Desktop\\totalRNA_JuJu_EV\\p22323-s016_EV-Julian-Pre-Op-TotalRNA_S38_L002_R1_001ReadsPerGene.out.tab\n",
      "C:\\Users\\EHYANG4\\Desktop\\totalRNA_JuJu_EV\\p22323-s017_EV-Julian-1-week-08-16-2022-TotalRNA_S39_L002_R1_001ReadsPerGene.out.tab\n",
      "C:\\Users\\EHYANG4\\Desktop\\totalRNA_JuJu_EV\\p22323-s018_EV-Julian-2-months-10-10-2022-TotalRNA_S40_L002_R1_001ReadsPerGene.out.tab\n",
      "C:\\Users\\EHYANG4\\Desktop\\totalRNA_JuJu_EV\\p22323-s019_EV-Justin-1-month-09-06-2022-TotalRNA_S41_L002_R1_001ReadsPerGene.out.tab\n",
      "C:\\Users\\EHYANG4\\Desktop\\totalRNA_JuJu_EV\\p22323-s020_EV-Julian-1-month-09-06-2022-TotalRNA_S42_L002_R1_001ReadsPerGene.out.tab\n",
      "C:\\Users\\EHYANG4\\Desktop\\totalRNA_JuJu_EV\\p23002-s001_EV-Justin-Pre-Op-TotalRNA_S47_L002_R1_001ReadsPerGene.out.tab\n",
      "C:\\Users\\EHYANG4\\Desktop\\totalRNA_JuJu_EV\\p23002-s002_EV-Justin-1-week-08-16-2022-TotalRNA_S48_L002_R1_001ReadsPerGene.out.tab\n",
      "C:\\Users\\EHYANG4\\Desktop\\totalRNA_JuJu_EV\\p23002-s003_EV-Justin-2-months-10-10-2022-TotalRNA_S49_L002_R1_001ReadsPerGene.out.tab\n",
      "C:\\Users\\EHYANG4\\Desktop\\totalRNA_JuJu_EV\\p23002-s004_EV-Julian-Pre-Op-TotalRNA_S50_L002_R1_001ReadsPerGene.out.tab\n",
      "C:\\Users\\EHYANG4\\Desktop\\totalRNA_JuJu_EV\\p23002-s005_EV-Julian-1-week-08-16-2022-TotalRNA_S51_L002_R1_001ReadsPerGene.out.tab\n",
      "C:\\Users\\EHYANG4\\Desktop\\totalRNA_JuJu_EV\\p23002-s006_EV-Julian-2-months-10-10-2022-TotalRNA_S52_L002_R1_001ReadsPerGene.out.tab\n",
      "C:\\Users\\EHYANG4\\Desktop\\totalRNA_JuJu_EV\\p23002-s007_EV-Justin-1-month-09-06-2022-TotalRNA_S53_L002_R1_001ReadsPerGene.out.tab\n",
      "C:\\Users\\EHYANG4\\Desktop\\totalRNA_JuJu_EV\\p23002-s008_EV-Julian-1-month-09-06-2022-TotalRNA_S54_L002_R1_001ReadsPerGene.out.tab\n",
      "C:\\Users\\EHYANG4\\Desktop\\totalRNA_JuJu_EV\\p23002-s013_EV-Justin-Pre-Op-TotalRNA_S59_L002_R1_001ReadsPerGene.out.tab\n",
      "C:\\Users\\EHYANG4\\Desktop\\totalRNA_JuJu_EV\\p23002-s014_EV-Justin-1-week-08-16-2022-TotalRNA_S60_L002_R1_001ReadsPerGene.out.tab\n",
      "C:\\Users\\EHYANG4\\Desktop\\totalRNA_JuJu_EV\\p23002-s015_EV-Justin-2-months-10-10-2022-TotalRNA_S61_L002_R1_001ReadsPerGene.out.tab\n",
      "C:\\Users\\EHYANG4\\Desktop\\totalRNA_JuJu_EV\\p23002-s016_EV-Julian-Pre-Op-TotalRNA_S62_L002_R1_001ReadsPerGene.out.tab\n",
      "C:\\Users\\EHYANG4\\Desktop\\totalRNA_JuJu_EV\\p23002-s017_EV-Julian-1-week-08-16-2022-TotalRNA_S63_L002_R1_001ReadsPerGene.out.tab\n",
      "C:\\Users\\EHYANG4\\Desktop\\totalRNA_JuJu_EV\\p23002-s018_EV-Julian-2-months-10-10-2022-TotalRNA_S64_L002_R1_001ReadsPerGene.out.tab\n",
      "C:\\Users\\EHYANG4\\Desktop\\totalRNA_JuJu_EV\\p23002-s019_EV-Justin-1-month-09-06-2022-TotalRNA_S65_L002_R1_001ReadsPerGene.out.tab\n",
      "C:\\Users\\EHYANG4\\Desktop\\totalRNA_JuJu_EV\\p23002-s020_EV-Julian-1-month-09-06-2022-TotalRNA_S66_L002_R1_001ReadsPerGene.out.tab\n"
     ]
    }
   ],
   "source": [
    "import os\n",
    "import pdb\n",
    "import shutil\n",
    "fileDir=r\"C:\\Users\\EHYANG4\\Desktop\\totalRNA_JuJu_EV\"\n",
    "for folder in os.scandir():\n",
    "    if os.path.isdir(folder.path):\n",
    "        for file in os.scandir(folder.path):\n",
    "            if \"ReadsPerGene.out.tab\" in file.path:\n",
    "                fileName=file.path[file.path.rfind(\"\\\\\")+1:]\n",
    "                newDir=fileDir+\"\\\\\"+fileName\n",
    "                os.rename(file.path, newDir)\n",
    "                print(newDir)"
   ]
  },
  {
   "cell_type": "code",
   "execution_count": null,
   "id": "dadb8c0b",
   "metadata": {},
   "outputs": [],
   "source": [
    "fileName=file.path[file.path.rfind(\"/\")+1:]\n",
    "                newDir=fileDir+\"/\"+fileName\n",
    "                os.rename(file.path, newDir)"
   ]
  }
 ],
 "metadata": {
  "kernelspec": {
   "display_name": "Python 3 (ipykernel)",
   "language": "python",
   "name": "python3"
  },
  "language_info": {
   "codemirror_mode": {
    "name": "ipython",
    "version": 3
   },
   "file_extension": ".py",
   "mimetype": "text/x-python",
   "name": "python",
   "nbconvert_exporter": "python",
   "pygments_lexer": "ipython3",
   "version": "3.7.3"
  }
 },
 "nbformat": 4,
 "nbformat_minor": 5
}
