{
 "cells": [
  {
   "cell_type": "code",
   "execution_count": 30,
   "id": "d86552e1",
   "metadata": {
    "scrolled": true
   },
   "outputs": [
    {
     "name": "stderr",
     "output_type": "stream",
     "text": [
      "sh: mapper.pl: command not found\n",
      "sh: quantifier.pl: command not found\n"
     ]
    }
   ],
   "source": [
    "import os\n",
    "import subprocess\n",
    "import argparse\n",
    "from concurrent.futures import ThreadPoolExecutor\n",
    "import shutil\n",
    "import pdb\n",
    "def filter_fasta(fasta_file, species):\n",
    "    f=open(fasta_file,'r')\n",
    "    lines=f.readlines()\n",
    "    results=[]\n",
    "    i=0\n",
    "    while i<len(lines):\n",
    "        if species in lines[i]:\n",
    "            results.append(lines[i])\n",
    "            results.append(lines[i+1])\n",
    "        i+=1  \n",
    "    output_file=species + \"_\"+ os.path.basename(fasta_file)\n",
    "    ofile = open(output_file, \"w\")\n",
    "    for item in results:\n",
    "        ofile.write(item)\n",
    "    ofile.close()\n",
    "    return ofile\n",
    "\n",
    "precursors=\"hairpin.fa\"\n",
    "species= \"hsa\"\n",
    "matures=\"mature.fa\"\n",
    "output_dir=\"./testResults\"\n",
    "genome=\"humanIndex\"\n",
    "outputDir=\"/home/ehyang4/Desktop/miRNA_TEVG_Serum_Output\"\n",
    "os.mkdir(outputDir)\n",
    "for inputFile in os.scandir(\"./Input\"): #scans every file in folder Input\n",
    "    #gets and filters fasta genomes\n",
    "    precursors_species = filter_fasta(precursors, species)\n",
    "    matures_species = filter_fasta(matures, species)\n",
    "    if inputFile.name.endswith('_R1_001_trimmed.fq') or inputFile.name.endswith('_R1_trimmed.fq'):\n",
    "        file_path= inputFile.path\n",
    "        prefix=file_path[8:-3]\n",
    "        #run mapper\n",
    "        mapper_file = os.path.join(output_dir, os.path.basename(inputFile)+\"_mapped\")\n",
    "        commandMap= \"mapper.pl \" + file_path+ \" -e -h -j -m -s \" + mapper_file +\" -p \"+ genome+ \" -t \"+ mapper_file + \".arf\"\n",
    "        os.system(commandMap)\n",
    "        #run quantifier after mapper done\n",
    "        commandQuant=\"quantifier.pl -p \" + precursors_species.name + \" -m \"+ matures_species.name + \" -r \" +mapper_file\n",
    "        os.system(commandQuant)\n",
    "        #running mirDeep2.pl and cleaning the precursor and mature files\n",
    "        commandMir= \"miRDeep2.pl \"+ mapper_file+\" newHuman-Copy.fa \"+ mapper_file+\".arf hsa_hairpin_clean.fa hsa_mature_clean.fa none -t human 2> report.log \"\n",
    "        os.system(commandMir)\n",
    "        #moving everything over to output directory\n",
    "        fileDir=outputDir+\"/\"+str(prefix)\n",
    "        os.mkdir(fileDir) \n",
    "        for file in os.scandir():\n",
    "            #print(file.path)\n",
    "            if os.path.isdir(file.path) and \"Input\" not in file.path and \"testResults\" not in file.path:\n",
    "                shutil.move(file.path, fileDir)\n",
    "                #print(file.path)\n",
    "            if file.path.endswith(\".log\"):\n",
    "                fileName=file.path[file.path.rfind(\"/\")+1:]\n",
    "                newDir=fileDir+\"/\"+fileName\n",
    "                os.rename(file.path, newDir)\n",
    "            if file.path.endswith(\".html\"):\n",
    "                fileName=file.path[file.path.rfind(\"/\")+1:]\n",
    "                newDir=fileDir+\"/\"+fileName\n",
    "                os.rename(file.path, newDir)\n",
    "            if file.path.endswith(\".csv\"):\n",
    "                fileName=file.path[file.path.rfind(\"/\")+1:]\n",
    "                newDir=fileDir+\"/\"+fileName\n",
    "                os.rename(file.path, newDir)\n",
    "            if file.path.endswith(\".bed\"):\n",
    "                fileName=file.path[file.path.rfind(\"/\")+1:]\n",
    "                newDir=fileDir+\"/\"+fileName\n",
    "                os.rename(file.path, newDir)\n",
    "            "
   ]
  },
  {
   "cell_type": "code",
   "execution_count": 2,
   "id": "ae08ba70",
   "metadata": {},
   "outputs": [
    {
     "ename": "NameError",
     "evalue": "name 'commandMap' is not defined",
     "output_type": "error",
     "traceback": [
      "\u001b[0;31m---------------------------------------------------------------------------\u001b[0m",
      "\u001b[0;31mNameError\u001b[0m                                 Traceback (most recent call last)",
      "Cell \u001b[0;32mIn[2], line 1\u001b[0m\n\u001b[0;32m----> 1\u001b[0m \u001b[38;5;28mprint\u001b[39m(\u001b[43mcommandMap\u001b[49m)\n",
      "\u001b[0;31mNameError\u001b[0m: name 'commandMap' is not defined"
     ]
    }
   ],
   "source": [
    "print(commandMap)"
   ]
  },
  {
   "cell_type": "code",
   "execution_count": null,
   "id": "a7ba7f4f",
   "metadata": {},
   "outputs": [],
   "source": [
    "import os\n",
    "import subprocess\n",
    "import argparse\n",
    "from concurrent.futures import ThreadPoolExecutor\n",
    "#fasta_file=\"p22323-s013_EV-Justin-Pre-Op-miRNA_S25_L002_R1_001_trimmed.fq\"\n",
    "#species=\"oar\"\n",
    "#file_path=\"p22323-s013_EV-Justin-Pre-Op-miRNA_S25_L002_R1_001_trimmed.fq\"\n",
    "#genome= # unsure\n",
    "#mapper_output=\"test.fa\"\n",
    "#mapped_file= #unsure\n",
    "#precursors= \"hairpin.fa\"\n",
    "#matures= \"mature.fa\"\n",
    "\n",
    "def filter_fasta(fasta_file, species):\n",
    "    f=open(fasta_file,'r')\n",
    "    lines=f.readlines()\n",
    "    results=[]\n",
    "    i=0\n",
    "    while i<len(lines):\n",
    "        if species in lines[i]:\n",
    "            results.append(lines[i])\n",
    "            results.append(lines[i+1])\n",
    "        i+=1  \n",
    "    output_file=species + \"_\"+ os.path.basename(fasta_file)\n",
    "    ofile = open(output_file, \"w\")\n",
    "    for item in results:\n",
    "        ofile.write(item)\n",
    "    ofile.close()\n",
    "    return ofile\n",
    "def run_mapper(file_path, genome, mapper_output):\n",
    "    command = [\"mapper.pl\", file_path, \"-e\", \"-h\", \"-j\", \"-m\", \"-s\", mapper_output, \"-p\", genome, \"-t\", mapper_output + \".arf\"]\n",
    "    subprocess.run(command, check=True)\n",
    "def run_quantifier(mapped_file, precursors, matures):\n",
    "    command = [\"quantifier.pl\", \"-p\", precursors, \"-m\", matures, \"-r\", mapped_file]\n",
    "    subprocess.run(command, check=True)\n",
    "def main():\n",
    "    parser = argparse.ArgumentParser(description=\"Run miRDeep2 on a directory of trimmed FastQ files.\")\n",
    "    parser.add_argument(\"input_dir\", help=\"Directory containing trimmed FastQ files.\")\n",
    "    parser.add_argument(\"output_dir\", help=\"Directory to write output files.\")\n",
    "    parser.add_argument(\"genome\", help=\"Genome file for miRDeep2.\")\n",
    "    parser.add_argument(\"precursors\", help=\"All species precursor miRNA sequences for miRDeep2.\")\n",
    "    parser.add_argument(\"matures\", help=\"All species mature miRNA sequences for miRDeep2.\")\n",
    "    parser.add_argument(\"species\", help=\"Species abbreviation for miRDeep2.\")\n",
    "    args = parser.parse_args()\n",
    "    precursors_species = filter_fasta(args.precursors, args.species)\n",
    "    matures_species = filter_fasta(args.matures, args.species)\n",
    "    print(precursors_species)\n",
    "    print(matures_species)\n",
    "    files = [os.path.join(args.input_dir, file) for file in os.listdir(args.input_dir) \n",
    "            if file.endswith('_R1_001_trimmed.fq') or file.endswith('_R1_trimmed.fq')]\n",
    "    print(files)\n",
    "    mapper_files = [os.path.join(args.output_dir, os.path.basename(file)+\"_mapped\") for file in files]\n",
    "    with ThreadPoolExecutor(max_workers=os.cpu_count()) as executor:\n",
    "        executor.map(run_mapper, files, [args.genome]*len(files), mapper_files)\n",
    "    mapped_files = [file for file in mapper_files]\n",
    "    print(\"Created Mapped Files\")\n",
    "    print(mapped_files)\n",
    "    #with ThreadPoolExecutor(max_workers=os.cpu_count()) as executor:\n",
    "    #    executor.map(run_quantifier, mapped_files, [precursors_species]*len(mapped_files), [matures_species]*len(mapped_files))\n",
    "    os.system(\"quantifier.pl -p \" + precursors_species.name + \" -m \"+ matures_species.name + \" -r \" +mapped_files[0])\n",
    "    print(\"Quantifier Done\")\n",
    "if __name__ == \"__main__\":\n",
    "    main()\n"
   ]
  },
  {
   "cell_type": "code",
   "execution_count": 3,
   "id": "ac1ae078",
   "metadata": {},
   "outputs": [],
   "source": [
    "#this one works\n",
    "import os, gzip, shutil\n",
    "\n",
    "dir_name = \"/home/ehyang4/Desktop/Human_miRNA_Serum_Input/\"\n",
    "\n",
    "def gz_extract(directory):\n",
    "    extension = \".gz\"\n",
    "    os.chdir(directory)\n",
    "    for item in os.listdir(directory): # loop through items in dir\n",
    "      if item.endswith(extension): # check for \".gz\" extension\n",
    "          gz_name = os.path.abspath(item) # get full path of files\n",
    "          file_name = (os.path.basename(gz_name)).rsplit('.',1)[0] #get file name for file within\n",
    "          with gzip.open(gz_name,\"rb\") as f_in, open(file_name,\"wb\") as f_out:\n",
    "              shutil.copyfileobj(f_in, f_out)\n",
    "          os.remove(gz_name) # delete zipped file\n",
    "        \n",
    "gz_extract(dir_name)"
   ]
  },
  {
   "cell_type": "code",
   "execution_count": 5,
   "id": "4aaebc42",
   "metadata": {},
   "outputs": [
    {
     "ename": "ImportError",
     "evalue": "cannot import name 'IUPACUnambiguousDNA' from 'Bio' (/home/ehyang4/anaconda3/lib/python3.10/site-packages/Bio/__init__.py)",
     "output_type": "error",
     "traceback": [
      "\u001b[0;31m---------------------------------------------------------------------------\u001b[0m",
      "\u001b[0;31mImportError\u001b[0m                               Traceback (most recent call last)",
      "Cell \u001b[0;32mIn[5], line 3\u001b[0m\n\u001b[1;32m      1\u001b[0m file\u001b[38;5;241m=\u001b[39m \u001b[38;5;124m\"\u001b[39m\u001b[38;5;124m/home/ehyang4/Desktop/Human_miRNA_Serum_Input/newHuman.fa\u001b[39m\u001b[38;5;124m\"\u001b[39m\n\u001b[1;32m      2\u001b[0m \u001b[38;5;28;01mfrom\u001b[39;00m \u001b[38;5;21;01mBio\u001b[39;00m \u001b[38;5;28;01mimport\u001b[39;00m SeqIO\n\u001b[0;32m----> 3\u001b[0m \u001b[38;5;28;01mfrom\u001b[39;00m \u001b[38;5;21;01mBio\u001b[39;00m \u001b[38;5;28;01mimport\u001b[39;00m IUPACUnambiguousDNA\n\u001b[1;32m      4\u001b[0m \u001b[38;5;28;01mfor\u001b[39;00m record \u001b[38;5;129;01min\u001b[39;00m SeqIO\u001b[38;5;241m.\u001b[39mparse(\u001b[38;5;124m\"\u001b[39m\u001b[38;5;124m/home/ehyang4/Desktop/Human_miRNA_Serum_Input/newHuman.fa\u001b[39m\u001b[38;5;124m\"\u001b[39m, \u001b[38;5;124m\"\u001b[39m\u001b[38;5;124mfasta\u001b[39m\u001b[38;5;124m\"\u001b[39m):\n\u001b[1;32m      5\u001b[0m     \u001b[38;5;28;01mif\u001b[39;00m \u001b[38;5;28mset\u001b[39m(record\u001b[38;5;241m.\u001b[39mseq\u001b[38;5;241m.\u001b[39mupper()) \u001b[38;5;241m<\u001b[39m\u001b[38;5;241m=\u001b[39m \u001b[38;5;28mset\u001b[39m(IUPACUnambiguousDNA\u001b[38;5;241m.\u001b[39mletters):\n",
      "\u001b[0;31mImportError\u001b[0m: cannot import name 'IUPACUnambiguousDNA' from 'Bio' (/home/ehyang4/anaconda3/lib/python3.10/site-packages/Bio/__init__.py)"
     ]
    }
   ],
   "source": [
    "file= \"/home/ehyang4/Desktop/Human_miRNA_Serum_Input/newHuman.fa\"\n",
    "from Bio import SeqIO\n",
    "from Bio import IUPACUnambiguousDNA\n",
    "for record in SeqIO.parse(\"/home/ehyang4/Desktop/Human_miRNA_Serum_Input/newHuman.fa\", \"fasta\"):\n",
    "    if set(record.seq.upper()) <= set(IUPACUnambiguousDNA.letters):\n",
    "       print(record)"
   ]
  },
  {
   "cell_type": "code",
   "execution_count": null,
   "id": "f6192364",
   "metadata": {},
   "outputs": [],
   "source": []
  }
 ],
 "metadata": {
  "kernelspec": {
   "display_name": "Python 3 (ipykernel)",
   "language": "python",
   "name": "python3"
  },
  "language_info": {
   "codemirror_mode": {
    "name": "ipython",
    "version": 3
   },
   "file_extension": ".py",
   "mimetype": "text/x-python",
   "name": "python",
   "nbconvert_exporter": "python",
   "pygments_lexer": "ipython3",
   "version": "3.10.9"
  }
 },
 "nbformat": 4,
 "nbformat_minor": 5
}
