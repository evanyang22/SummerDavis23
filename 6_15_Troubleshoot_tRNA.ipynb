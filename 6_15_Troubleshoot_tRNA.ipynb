{
 "cells": [
  {
   "cell_type": "code",
   "execution_count": 5,
   "id": "81e36654",
   "metadata": {},
   "outputs": [
    {
     "name": "stdout",
     "output_type": "stream",
     "text": [
      "STAR --genomeDir /home/ehyang4/ncbi_dataset/data --readFilesIn p22323-s013_EV-Justin-Pre-Op-TotalRNA_S35_L002_R1_001_val_1.fq p22323-s013_EV-Justin-Pre-Op-TotalRNA_S35_L002_R2_001_val_2.fq --quantMode GeneCounts --outFileNamePrefix p22323-s013_EV-Justin-Pre-Op-TotalRNA_S35_L002_R1_001\n"
     ]
    },
    {
     "name": "stderr",
     "output_type": "stream",
     "text": [
      "sh: STAR: command not found\n"
     ]
    },
    {
     "ename": "FileNotFoundError",
     "evalue": "[Errno 2] No such file or directory: '/home/ehyang4/Desktop/Output/p22323-s013_EV-Justin-Pre-Op-TotalRNA_S35_L002_R1_001'",
     "output_type": "error",
     "traceback": [
      "\u001b[0;31m---------------------------------------------------------------------------\u001b[0m",
      "\u001b[0;31mFileNotFoundError\u001b[0m                         Traceback (most recent call last)",
      "Cell \u001b[0;32mIn[5], line 27\u001b[0m\n\u001b[1;32m     25\u001b[0m \u001b[38;5;66;03m#creates a new directory where all the random output files on the desktop will be moved to\u001b[39;00m\n\u001b[1;32m     26\u001b[0m fileDir\u001b[38;5;241m=\u001b[39m\u001b[38;5;124m\"\u001b[39m\u001b[38;5;124m/home/ehyang4/Desktop/Output/\u001b[39m\u001b[38;5;124m\"\u001b[39m\u001b[38;5;241m+\u001b[39m\u001b[38;5;28mstr\u001b[39m(prefix)\n\u001b[0;32m---> 27\u001b[0m \u001b[43mos\u001b[49m\u001b[38;5;241;43m.\u001b[39;49m\u001b[43mmkdir\u001b[49m\u001b[43m(\u001b[49m\u001b[43mfileDir\u001b[49m\u001b[43m)\u001b[49m \n\u001b[1;32m     28\u001b[0m \u001b[38;5;28mprint\u001b[39m(fileDir)\n\u001b[1;32m     29\u001b[0m \u001b[38;5;66;03m#moves all random files\u001b[39;00m\n",
      "\u001b[0;31mFileNotFoundError\u001b[0m: [Errno 2] No such file or directory: '/home/ehyang4/Desktop/Output/p22323-s013_EV-Justin-Pre-Op-TotalRNA_S35_L002_R1_001'"
     ]
    }
   ],
   "source": [
    "import os\n",
    "import pdb\n",
    "outputDir=\"/home/ehyang4/Desktop/JuJu_totalRNA_Serum_Output\"\n",
    "os.mkdir(outputDir)\n",
    "for fastq in os.scandir():\n",
    "    if fastq.path.endswith(\".fastq\") and \"R2\" in fastq.path:\n",
    "        pass\n",
    "    if fastq.path.endswith(\".fastq\") and \"R1\" in fastq.path:\n",
    "        currentFile= fastq.path\n",
    "        pairedFile=currentFile.replace(\"R1\",\"R2\")\n",
    "        prefix=currentFile[currentFile.find(\"/\")+1:currentFile.rfind(\".\")]\n",
    "        #running paired trim galore\n",
    "        commandTrim=\"trim_galore --paired --quality 18 --fastqc --illumina \"+ str(currentFile)+ \" \" + str(pairedFile)\n",
    "        #18 is minimum for miRNA? idk pick setting\n",
    "        os.system(commandTrim) \n",
    "        #aligning via star\n",
    "        for search in os.scandir():\n",
    "            if \"val_1\" in search.name and \".fq\" in search.name:\n",
    "                val1= search.name\n",
    "            if \"val_2\" in search.name and \".fq\" in search.name:\n",
    "                val2=search.name\n",
    "        commandAlign=\"STAR --genomeDir /home/ehyang4/ncbi_dataset/data --readFilesIn \" + str(val1)+\" \"+ str(val2)+\" --quantMode GeneCounts --outFileNamePrefix \" +str(prefix) \n",
    "        print(commandAlign)\n",
    "        os.system(commandAlign)\n",
    "        #creates a new directory where all the random output files on the desktop will be moved to\n",
    "        fileDir=outputDir+ \"/\" +str(prefix)\n",
    "        os.mkdir(fileDir) \n",
    "        print(fileDir)\n",
    "        #moves all random files\n",
    "        for file in os.scandir():\n",
    "            print(file.path)\n",
    "            if file.path.endswith(\".txt\"):\n",
    "                fileName=file.path[file.path.rfind(\"/\")+1:]\n",
    "                newDir=fileDir+\"/\"+fileName\n",
    "                os.rename(file.path, newDir)\n",
    "            if file.path.endswith(\".out\"):\n",
    "                fileName=file.path[file.path.rfind(\"/\")+1:]\n",
    "                newDir=fileDir+\"/\"+fileName\n",
    "                os.rename(file.path, newDir)\n",
    "            if file.path.endswith(\".sam\"):\n",
    "                fileName=file.path[file.path.rfind(\"/\")+1:]\n",
    "                newDir=fileDir+\"/\"+fileName\n",
    "                os.rename(file.path, newDir)\n",
    "            if file.path.endswith(\".zip\"):\n",
    "                fileName=file.path[file.path.rfind(\"/\")+1:]\n",
    "                newDir=fileDir+\"/\"+fileName\n",
    "                os.rename(file.path, newDir)\n",
    "            if file.path.endswith(\".fq\"):\n",
    "                fileName=file.path[file.path.rfind(\"/\")+1:]\n",
    "                newDir=fileDir+\"/\"+fileName\n",
    "                os.rename(file.path, newDir)\n",
    "            if file.path.endswith(\".html\"):\n",
    "                fileName=file.path[file.path.rfind(\"/\")+1:]\n",
    "                newDir=fileDir+\"/\"+fileName\n",
    "                os.rename(file.path, newDir)\n",
    "            if file.path.endswith(\".tab\"):\n",
    "                fileName=file.path[file.path.rfind(\"/\")+1:]\n",
    "                newDir=fileDir+\"/\"+fileName\n",
    "                os.rename(file.path, newDir)"
   ]
  },
  {
   "cell_type": "code",
   "execution_count": 7,
   "id": "1bd4b6bf",
   "metadata": {},
   "outputs": [],
   "source": [
    "#this one works\n",
    "import os, gzip, shutil\n",
    "\n",
    "dir_name = \"/home/ehyang4/Desktop/JuJu_Serum_totalRNA\"\n",
    "\n",
    "def gz_extract(directory):\n",
    "    extension = \".gz\"\n",
    "    os.chdir(directory)\n",
    "    for item in os.listdir(directory): # loop through items in dir\n",
    "      if item.endswith(extension): # check for \".gz\" extension\n",
    "          gz_name = os.path.abspath(item) # get full path of files\n",
    "          file_name = (os.path.basename(gz_name)).rsplit('.',1)[0] #get file name for file within\n",
    "          with gzip.open(gz_name,\"rb\") as f_in, open(file_name,\"wb\") as f_out:\n",
    "              shutil.copyfileobj(f_in, f_out)\n",
    "          os.remove(gz_name) # delete zipped file\n",
    "        \n",
    "gz_extract(dir_name)"
   ]
  },
  {
   "cell_type": "code",
   "execution_count": null,
   "id": "11974ca2",
   "metadata": {},
   "outputs": [],
   "source": []
  }
 ],
 "metadata": {
  "kernelspec": {
   "display_name": "Python 3 (ipykernel)",
   "language": "python",
   "name": "python3"
  },
  "language_info": {
   "codemirror_mode": {
    "name": "ipython",
    "version": 3
   },
   "file_extension": ".py",
   "mimetype": "text/x-python",
   "name": "python",
   "nbconvert_exporter": "python",
   "pygments_lexer": "ipython3",
   "version": "3.10.9"
  }
 },
 "nbformat": 4,
 "nbformat_minor": 5
}
